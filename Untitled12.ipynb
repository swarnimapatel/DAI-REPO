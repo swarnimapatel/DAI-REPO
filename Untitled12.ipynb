{
 "cells": [
  {
   "cell_type": "code",
   "execution_count": 1,
   "id": "79e21fe1",
   "metadata": {},
   "outputs": [],
   "source": [
    "import pandas as pd\n",
    "from sklearn.model_selection import train_test_split\n",
    "from sklearn.preprocessing import LabelEncoder, StandardScaler\n",
    "from sklearn.svm import SVC\n",
    "from sklearn.neighbors import KNeighborsClassifier\n",
    "from sklearn.metrics import classification_report, confusion_matrix\n"
   ]
  },
  {
   "cell_type": "code",
   "execution_count": 7,
   "id": "96f0934d",
   "metadata": {},
   "outputs": [],
   "source": [
    "file_path = 'D:/miniconda python/data sets/MBA.csv'\n",
    "data = pd.read_csv(file_path)"
   ]
  },
  {
   "cell_type": "code",
   "execution_count": 8,
   "id": "d01958e5",
   "metadata": {},
   "outputs": [
    {
     "name": "stdout",
     "output_type": "stream",
     "text": [
      "First few rows of the dataset:\n",
      "   application_id  gender  international   gpa       major      race   gmat  \\\n",
      "0               1  Female          False  3.30    Business     Asian  620.0   \n",
      "1               2    Male          False  3.28  Humanities     Black  680.0   \n",
      "2               3  Female           True  3.30    Business       NaN  710.0   \n",
      "3               4    Male          False  3.47        STEM     Black  690.0   \n",
      "4               5    Male          False  3.35        STEM  Hispanic  590.0   \n",
      "\n",
      "   work_exp          work_industry admission  \n",
      "0       3.0     Financial Services     Admit  \n",
      "1       5.0  Investment Management       NaN  \n",
      "2       5.0             Technology     Admit  \n",
      "3       6.0             Technology       NaN  \n",
      "4       5.0             Consulting       NaN  \n"
     ]
    }
   ],
   "source": [
    "print(\"First few rows of the dataset:\")\n",
    "print(data.head())"
   ]
  },
  {
   "cell_type": "code",
   "execution_count": 9,
   "id": "dba19230",
   "metadata": {},
   "outputs": [
    {
     "name": "stdout",
     "output_type": "stream",
     "text": [
      "\n",
      "Dataset Information:\n",
      "<class 'pandas.core.frame.DataFrame'>\n",
      "RangeIndex: 6194 entries, 0 to 6193\n",
      "Data columns (total 10 columns):\n",
      " #   Column          Non-Null Count  Dtype  \n",
      "---  ------          --------------  -----  \n",
      " 0   application_id  6194 non-null   int64  \n",
      " 1   gender          6194 non-null   object \n",
      " 2   international   6194 non-null   bool   \n",
      " 3   gpa             6194 non-null   float64\n",
      " 4   major           6194 non-null   object \n",
      " 5   race            4352 non-null   object \n",
      " 6   gmat            6194 non-null   float64\n",
      " 7   work_exp        6194 non-null   float64\n",
      " 8   work_industry   6194 non-null   object \n",
      " 9   admission       1000 non-null   object \n",
      "dtypes: bool(1), float64(3), int64(1), object(5)\n",
      "memory usage: 441.7+ KB\n"
     ]
    }
   ],
   "source": [
    "print(\"\\nDataset Information:\")\n",
    "data.info()"
   ]
  },
  {
   "cell_type": "code",
   "execution_count": 10,
   "id": "4b594369",
   "metadata": {},
   "outputs": [
    {
     "name": "stdout",
     "output_type": "stream",
     "text": [
      "\n",
      "Missing Values in Each Column:\n",
      "application_id       0\n",
      "gender               0\n",
      "international        0\n",
      "gpa                  0\n",
      "major                0\n",
      "race              1842\n",
      "gmat                 0\n",
      "work_exp             0\n",
      "work_industry        0\n",
      "admission         5194\n",
      "dtype: int64\n"
     ]
    }
   ],
   "source": [
    "print(\"\\nMissing Values in Each Column:\")\n",
    "missing_values = data.isnull().sum()\n",
    "print(missing_values)"
   ]
  },
  {
   "cell_type": "code",
   "execution_count": 11,
   "id": "fae11feb",
   "metadata": {},
   "outputs": [
    {
     "name": "stdout",
     "output_type": "stream",
     "text": [
      "\n",
      "Descriptive Statistics for Numerical Features:\n",
      "       application_id          gpa         gmat     work_exp\n",
      "count     6194.000000  6194.000000  6194.000000  6194.000000\n",
      "mean      3097.500000     3.250714   651.092993     5.016952\n",
      "std       1788.198115     0.151541    49.294883     1.032432\n",
      "min          1.000000     2.650000   570.000000     1.000000\n",
      "25%       1549.250000     3.150000   610.000000     4.000000\n",
      "50%       3097.500000     3.250000   650.000000     5.000000\n",
      "75%       4645.750000     3.350000   680.000000     6.000000\n",
      "max       6194.000000     3.770000   780.000000     9.000000\n"
     ]
    }
   ],
   "source": [
    "print(\"\\nDescriptive Statistics for Numerical Features:\")\n",
    "print(data.describe())\n"
   ]
  },
  {
   "cell_type": "code",
   "execution_count": 12,
   "id": "3fb918f2",
   "metadata": {},
   "outputs": [
    {
     "name": "stdout",
     "output_type": "stream",
     "text": [
      "\n",
      "Distribution of Categorical Features:\n",
      "\n",
      "gender Distribution:\n",
      "gender\n",
      "Male      3943\n",
      "Female    2251\n",
      "Name: count, dtype: int64\n",
      "\n",
      "major Distribution:\n",
      "major\n",
      "Humanities    2481\n",
      "STEM          1875\n",
      "Business      1838\n",
      "Name: count, dtype: int64\n",
      "\n",
      "race Distribution:\n",
      "race\n",
      "White       1456\n",
      "Asian       1147\n",
      "Black        916\n",
      "Hispanic     596\n",
      "Other        237\n",
      "Name: count, dtype: int64\n",
      "\n",
      "work_industry Distribution:\n",
      "work_industry\n",
      "Consulting               1619\n",
      "PE/VC                     907\n",
      "Technology                716\n",
      "Nonprofit/Gov             651\n",
      "Investment Banking        580\n",
      "Financial Services        451\n",
      "Other                     421\n",
      "Health Care               334\n",
      "Investment Management     166\n",
      "CPG                       114\n",
      "Real Estate               111\n",
      "Media/Entertainment        59\n",
      "Retail                     33\n",
      "Energy                     32\n",
      "Name: count, dtype: int64\n",
      "\n",
      "admission Distribution:\n",
      "admission\n",
      "Admit       900\n",
      "Waitlist    100\n",
      "Name: count, dtype: int64\n"
     ]
    }
   ],
   "source": [
    "categorical_features = ['gender', 'major', 'race', 'work_industry', 'admission']\n",
    "print(\"\\nDistribution of Categorical Features:\")\n",
    "for feature in categorical_features:\n",
    "    print(f\"\\n{feature} Distribution:\")\n",
    "    print(data[feature].value_counts())"
   ]
  },
  {
   "cell_type": "code",
   "execution_count": 13,
   "id": "f116ff93",
   "metadata": {},
   "outputs": [],
   "source": [
    "data = data.dropna(subset=['admission'])"
   ]
  },
  {
   "cell_type": "code",
   "execution_count": 14,
   "id": "8b3165e6",
   "metadata": {},
   "outputs": [],
   "source": [
    "data['race'] = data['race'].fillna('Unknown')\n"
   ]
  },
  {
   "cell_type": "code",
   "execution_count": 15,
   "id": "76cee241",
   "metadata": {},
   "outputs": [
    {
     "name": "stdout",
     "output_type": "stream",
     "text": [
      "\n",
      "Encoding Categorical Variables...\n"
     ]
    }
   ],
   "source": [
    "print(\"\\nEncoding Categorical Variables...\")\n",
    "label_encoders = {}\n",
    "for feature in ['gender', 'major', 'race', 'work_industry', 'admission']:\n",
    "    le = LabelEncoder()\n",
    "    data[feature] = le.fit_transform(data[feature])\n",
    "    label_encoders[feature] = le"
   ]
  },
  {
   "cell_type": "code",
   "execution_count": 16,
   "id": "cf37455b",
   "metadata": {},
   "outputs": [
    {
     "name": "stdout",
     "output_type": "stream",
     "text": [
      "\n",
      "Splitting the dataset into features and target variable...\n"
     ]
    }
   ],
   "source": [
    "print(\"\\nSplitting the dataset into features and target variable...\")\n",
    "X = data.drop(columns=['application_id', 'admission'])\n",
    "y = data['admission']"
   ]
  },
  {
   "cell_type": "code",
   "execution_count": 17,
   "id": "43494e5b",
   "metadata": {},
   "outputs": [
    {
     "name": "stdout",
     "output_type": "stream",
     "text": [
      "\n",
      "Splitting the data into training and testing sets...\n"
     ]
    }
   ],
   "source": [
    "print(\"\\nSplitting the data into training and testing sets...\")\n",
    "X_train, X_test, y_train, y_test = train_test_split(X, y, test_size=0.3, random_state=42)"
   ]
  },
  {
   "cell_type": "code",
   "execution_count": 18,
   "id": "35375524",
   "metadata": {},
   "outputs": [
    {
     "name": "stdout",
     "output_type": "stream",
     "text": [
      "\n",
      "Standardizing the features...\n"
     ]
    }
   ],
   "source": [
    "print(\"\\nStandardizing the features...\")\n",
    "scaler = StandardScaler()\n",
    "X_train = scaler.fit_transform(X_train)\n",
    "X_test = scaler.transform(X_test)"
   ]
  },
  {
   "cell_type": "code",
   "execution_count": 19,
   "id": "eea0dab6",
   "metadata": {},
   "outputs": [
    {
     "name": "stdout",
     "output_type": "stream",
     "text": [
      "\n",
      "Training the SVM model...\n"
     ]
    }
   ],
   "source": [
    "print(\"\\nTraining the SVM model...\")\n",
    "svm_model = SVC()\n",
    "svm_model.fit(X_train, y_train)\n",
    "y_pred_svm = svm_model.predict(X_test)"
   ]
  },
  {
   "cell_type": "code",
   "execution_count": 20,
   "id": "9793f195",
   "metadata": {},
   "outputs": [
    {
     "name": "stdout",
     "output_type": "stream",
     "text": [
      "\n",
      "SVM Model Evaluation:\n",
      "Confusion Matrix:\n",
      "[[265   0]\n",
      " [ 35   0]]\n",
      "\n",
      "Classification Report:\n",
      "              precision    recall  f1-score   support\n",
      "\n",
      "           0       0.88      1.00      0.94       265\n",
      "           1       0.00      0.00      0.00        35\n",
      "\n",
      "    accuracy                           0.88       300\n",
      "   macro avg       0.44      0.50      0.47       300\n",
      "weighted avg       0.78      0.88      0.83       300\n",
      "\n"
     ]
    },
    {
     "name": "stderr",
     "output_type": "stream",
     "text": [
      "D:\\New folder\\envs\\ds_env\\Lib\\site-packages\\sklearn\\metrics\\_classification.py:1531: UndefinedMetricWarning: Precision is ill-defined and being set to 0.0 in labels with no predicted samples. Use `zero_division` parameter to control this behavior.\n",
      "  _warn_prf(average, modifier, f\"{metric.capitalize()} is\", len(result))\n",
      "D:\\New folder\\envs\\ds_env\\Lib\\site-packages\\sklearn\\metrics\\_classification.py:1531: UndefinedMetricWarning: Precision is ill-defined and being set to 0.0 in labels with no predicted samples. Use `zero_division` parameter to control this behavior.\n",
      "  _warn_prf(average, modifier, f\"{metric.capitalize()} is\", len(result))\n",
      "D:\\New folder\\envs\\ds_env\\Lib\\site-packages\\sklearn\\metrics\\_classification.py:1531: UndefinedMetricWarning: Precision is ill-defined and being set to 0.0 in labels with no predicted samples. Use `zero_division` parameter to control this behavior.\n",
      "  _warn_prf(average, modifier, f\"{metric.capitalize()} is\", len(result))\n"
     ]
    }
   ],
   "source": [
    "print(\"\\nSVM Model Evaluation:\")\n",
    "print(\"Confusion Matrix:\")\n",
    "print(confusion_matrix(y_test, y_pred_svm))\n",
    "print(\"\\nClassification Report:\")\n",
    "print(classification_report(y_test, y_pred_svm))"
   ]
  },
  {
   "cell_type": "code",
   "execution_count": 21,
   "id": "e2005f5e",
   "metadata": {},
   "outputs": [
    {
     "name": "stdout",
     "output_type": "stream",
     "text": [
      "\n",
      "Training the KNN model...\n"
     ]
    }
   ],
   "source": [
    "print(\"\\nTraining the KNN model...\")\n",
    "knn_model = KNeighborsClassifier(n_neighbors=5)\n",
    "knn_model.fit(X_train, y_train)\n",
    "y_pred_knn = knn_model.predict(X_test)"
   ]
  },
  {
   "cell_type": "code",
   "execution_count": 22,
   "id": "71a139c5",
   "metadata": {},
   "outputs": [
    {
     "name": "stdout",
     "output_type": "stream",
     "text": [
      "\n",
      "KNN Model Evaluation:\n",
      "Confusion Matrix:\n",
      "[[264   1]\n",
      " [ 35   0]]\n",
      "\n",
      "Classification Report:\n",
      "              precision    recall  f1-score   support\n",
      "\n",
      "           0       0.88      1.00      0.94       265\n",
      "           1       0.00      0.00      0.00        35\n",
      "\n",
      "    accuracy                           0.88       300\n",
      "   macro avg       0.44      0.50      0.47       300\n",
      "weighted avg       0.78      0.88      0.83       300\n",
      "\n"
     ]
    }
   ],
   "source": [
    "print(\"\\nKNN Model Evaluation:\")\n",
    "print(\"Confusion Matrix:\")\n",
    "print(confusion_matrix(y_test, y_pred_knn))\n",
    "print(\"\\nClassification Report:\")\n",
    "print(classification_report(y_test, y_pred_knn))"
   ]
  },
  {
   "cell_type": "code",
   "execution_count": null,
   "id": "6a8504d3",
   "metadata": {},
   "outputs": [],
   "source": []
  }
 ],
 "metadata": {
  "kernelspec": {
   "display_name": "Python [conda env:ds_env] *",
   "language": "python",
   "name": "conda-env-ds_env-py"
  },
  "language_info": {
   "codemirror_mode": {
    "name": "ipython",
    "version": 3
   },
   "file_extension": ".py",
   "mimetype": "text/x-python",
   "name": "python",
   "nbconvert_exporter": "python",
   "pygments_lexer": "ipython3",
   "version": "3.12.4"
  }
 },
 "nbformat": 4,
 "nbformat_minor": 5
}
